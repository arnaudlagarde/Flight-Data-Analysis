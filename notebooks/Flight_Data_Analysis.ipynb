{
 "cells": [
  {
   "cell_type": "code",
   "execution_count": 1,
   "metadata": {
    "vscode": {
     "languageId": "plaintext"
    }
   },
   "outputs": [
    {
     "name": "stdout",
     "output_type": "stream",
     "text": [
      "Requirement already satisfied: pyspark in /usr/local/spark/python (3.5.0)\n",
      "Requirement already satisfied: py4j==0.10.9.7 in /opt/conda/lib/python3.11/site-packages (from pyspark) (0.10.9.7)\n"
     ]
    }
   ],
   "source": [
    "!pip install pyspark\n"
   ]
  },
  {
   "cell_type": "code",
   "execution_count": 2,
   "metadata": {
    "vscode": {
     "languageId": "plaintext"
    }
   },
   "outputs": [],
   "source": [
    "from pyspark.sql import SparkSession\n",
    "\n",
    "spark = SparkSession.builder \\\n",
    "    .appName(\"PySparkMySQLIntegration\") \\\n",
    "    .config(\"spark.jars.packages\", \"mysql:mysql-connector-java:8.0.30\") \\\n",
    "    .getOrCreate()\n"
   ]
  },
  {
   "cell_type": "code",
   "execution_count": 3,
   "metadata": {},
   "outputs": [],
   "source": [
    "flights_df = spark.read.format(\"jdbc\") \\\n",
    "    .option(\"url\", \"jdbc:mysql://mysql-nadim.alwaysdata.net:3306/nadim_db\") \\\n",
    "    .option(\"driver\", \"com.mysql.cj.jdbc.Driver\") \\\n",
    "    .option(\"dbtable\", \"flights\") \\\n",
    "    .option(\"user\", \"nadim\") \\\n",
    "    .option(\"password\", \"root123456789@\") \\\n",
    "    .load()\n"
   ]
  },
  {
   "cell_type": "code",
   "execution_count": 4,
   "metadata": {},
   "outputs": [
    {
     "name": "stdout",
     "output_type": "stream",
     "text": [
      "+----+-----+---+--------+--------------+---------+--------+--------------+---------+-------+------+-------+------+----+--------+--------+----+------+-------------------+\n",
      "|year|month|day|dep_time|sched_dep_time|dep_delay|arr_time|sched_arr_time|arr_delay|carrier|flight|tailnum|origin|dest|air_time|distance|hour|minute|          time_hour|\n",
      "+----+-----+---+--------+--------------+---------+--------+--------------+---------+-------+------+-------+------+----+--------+--------+----+------+-------------------+\n",
      "|2021|    1|  1|     517|           515|        2|     830|           819|       11|     UA|  1545| N14228|   EWR| IAH|     227|    1400|   5|    15|2021-01-01 05:00:00|\n",
      "|2021|    1|  1|     533|           529|        4|     850|           830|       20|     UA|  1714| N24211|   LGA| IAH|     227|    1416|   5|    29|2021-01-01 05:00:00|\n",
      "|2021|    1|  1|     542|           540|        2|     923|           850|       33|     AA|  1141| N619AA|   JFK| MIA|     160|    1089|   5|    40|2021-01-01 05:00:00|\n",
      "|2021|    1|  1|     544|           545|       -1|    1004|          1022|      -18|     B6|   725| N804JB|   JFK| BQN|     183|    1576|   5|    45|2021-01-01 05:00:00|\n",
      "|2021|    1|  1|     554|           600|       -6|     812|           837|      -25|     DL|   461| N668DN|   LGA| ATL|     116|     762|   6|     0|2021-01-01 06:00:00|\n",
      "|2021|    1|  1|     554|           558|       -4|     740|           728|       12|     UA|  1696| N39463|   EWR| ORD|     150|     719|   5|    58|2021-01-01 05:00:00|\n",
      "|2021|    1|  1|     555|           600|       -5|     913|           854|       19|     B6|   507| N516JB|   EWR| FLL|     158|    1065|   6|     0|2021-01-01 06:00:00|\n",
      "|2021|    1|  1|     557|           600|       -3|     709|           723|      -14|     EV|  5708| N829AS|   LGA| IAD|      53|     229|   6|     0|2021-01-01 06:00:00|\n",
      "|2021|    1|  1|     557|           600|       -3|     838|           846|       -8|     B6|    79| N593JB|   JFK| MCO|     140|     944|   6|     0|2021-01-01 06:00:00|\n",
      "|2021|    1|  1|     558|           600|       -2|     753|           745|        8|     AA|   301| N3ALAA|   LGA| ORD|     138|     733|   6|     0|2021-01-01 06:00:00|\n",
      "|2021|    1|  1|     558|           600|       -2|     849|           851|       -2|     B6|    49| N793JB|   JFK| PBI|     149|    1028|   6|     0|2021-01-01 06:00:00|\n",
      "|2021|    1|  1|     558|           600|       -2|     853|           856|       -3|     B6|    71| N657JB|   JFK| TPA|     158|    1005|   6|     0|2021-01-01 06:00:00|\n",
      "|2021|    1|  1|     558|           600|       -2|     924|           917|        7|     UA|   194| N29129|   JFK| LAX|     345|    2475|   6|     0|2021-01-01 06:00:00|\n",
      "|2021|    1|  1|     558|           600|       -2|     923|           937|      -14|     UA|  1124| N53441|   EWR| SFO|     361|    2565|   6|     0|2021-01-01 06:00:00|\n",
      "|2021|    1|  1|     559|           600|       -1|     941|           910|       31|     AA|   707| N3DUAA|   LGA| DFW|     257|    1389|   6|     0|2021-01-01 06:00:00|\n",
      "|2021|    1|  1|     559|           559|        0|     702|           706|       -4|     B6|  1806| N708JB|   JFK| BOS|      44|     187|   5|    59|2021-01-01 05:00:00|\n",
      "|2021|    1|  1|     559|           600|       -1|     854|           902|       -8|     UA|  1187| N76515|   EWR| LAS|     337|    2227|   6|     0|2021-01-01 06:00:00|\n",
      "|2021|    1|  1|     600|           600|        0|     851|           858|       -7|     B6|   371| N595JB|   LGA| FLL|     152|    1076|   6|     0|2021-01-01 06:00:00|\n",
      "|2021|    1|  1|     600|           600|        0|     837|           825|       12|     MQ|  4650| N542MQ|   LGA| ATL|     134|     762|   6|     0|2021-01-01 06:00:00|\n",
      "|2021|    1|  1|     601|           600|        1|     844|           850|       -6|     B6|   343| N644JB|   EWR| PBI|     147|    1023|   6|     0|2021-01-01 06:00:00|\n",
      "+----+-----+---+--------+--------------+---------+--------+--------------+---------+-------+------+-------+------+----+--------+--------+----+------+-------------------+\n",
      "only showing top 20 rows\n",
      "\n"
     ]
    }
   ],
   "source": [
    "flights_df.show()\n"
   ]
  },
  {
   "cell_type": "code",
   "execution_count": 5,
   "metadata": {},
   "outputs": [],
   "source": [
    "planes_df = spark.read.format(\"jdbc\") \\\n",
    "    .option(\"url\", \"jdbc:mysql://mysql-nadim.alwaysdata.net:3306/nadim_db\") \\\n",
    "    .option(\"driver\", \"com.mysql.cj.jdbc.Driver\") \\\n",
    "    .option(\"dbtable\", \"planes\") \\\n",
    "    .option(\"user\", \"nadim\") \\\n",
    "    .option(\"password\", \"root123456789@\") \\\n",
    "    .load()\n"
   ]
  },
  {
   "cell_type": "code",
   "execution_count": 6,
   "metadata": {},
   "outputs": [],
   "source": [
    "weather_df = spark.read.format(\"jdbc\") \\\n",
    "    .option(\"url\", \"jdbc:mysql://mysql-nadim.alwaysdata.net:3306/nadim_db\") \\\n",
    "    .option(\"driver\", \"com.mysql.cj.jdbc.Driver\") \\\n",
    "    .option(\"dbtable\", \"weather\") \\\n",
    "    .option(\"user\", \"nadim\") \\\n",
    "    .option(\"password\", \"root123456789@\") \\\n",
    "    .load()\n"
   ]
  },
  {
   "cell_type": "code",
   "execution_count": 7,
   "metadata": {},
   "outputs": [],
   "source": [
    "airlines_df = spark.read.format(\"jdbc\") \\\n",
    "    .option(\"url\", \"jdbc:mysql://mysql-nadim.alwaysdata.net:3306/nadim_db\") \\\n",
    "    .option(\"driver\", \"com.mysql.cj.jdbc.Driver\") \\\n",
    "    .option(\"dbtable\", \"airlines\") \\\n",
    "    .option(\"user\", \"nadim\") \\\n",
    "    .option(\"password\", \"root123456789@\") \\\n",
    "    .load()\n"
   ]
  },
  {
   "cell_type": "code",
   "execution_count": 8,
   "metadata": {},
   "outputs": [],
   "source": [
    "airports_df = spark.read.format(\"jdbc\") \\\n",
    "    .option(\"url\", \"jdbc:mysql://mysql-nadim.alwaysdata.net:3306/nadim_db\") \\\n",
    "    .option(\"driver\", \"com.mysql.cj.jdbc.Driver\") \\\n",
    "    .option(\"dbtable\", \"airports\") \\\n",
    "    .option(\"user\", \"nadim\") \\\n",
    "    .option(\"password\", \"root123456789@\") \\\n",
    "    .load()\n"
   ]
  },
  {
   "cell_type": "markdown",
   "metadata": {},
   "source": [
    "## Request 1: Counting Airports, Timezones, Companies, Planes, and Cancelled Flights\n"
   ]
  },
  {
   "cell_type": "code",
   "execution_count": 9,
   "metadata": {},
   "outputs": [
    {
     "ename": "AttributeError",
     "evalue": "'DataFrame' object has no attribute 'cancelled'",
     "output_type": "error",
     "traceback": [
      "\u001b[0;31m---------------------------------------------------------------------------\u001b[0m",
      "\u001b[0;31mAttributeError\u001b[0m                            Traceback (most recent call last)",
      "Cell \u001b[0;32mIn[9], line 15\u001b[0m\n\u001b[1;32m     13\u001b[0m companies \u001b[38;5;241m=\u001b[39m airlines_df\u001b[38;5;241m.\u001b[39mcount()\n\u001b[1;32m     14\u001b[0m planes \u001b[38;5;241m=\u001b[39m planes_df\u001b[38;5;241m.\u001b[39mcount()\n\u001b[0;32m---> 15\u001b[0m cancelled_flights \u001b[38;5;241m=\u001b[39m flights_df\u001b[38;5;241m.\u001b[39mfilter(\u001b[43mflights_df\u001b[49m\u001b[38;5;241;43m.\u001b[39;49m\u001b[43mcancelled\u001b[49m \u001b[38;5;241m==\u001b[39m \u001b[38;5;241m1\u001b[39m)\u001b[38;5;241m.\u001b[39mcount()\n\u001b[1;32m     17\u001b[0m (total_airports, departure_airports, destination_airports, airports_no_dst, timezones, companies, planes, cancelled_flights)\n",
      "File \u001b[0;32m/usr/local/spark/python/pyspark/sql/dataframe.py:3123\u001b[0m, in \u001b[0;36mDataFrame.__getattr__\u001b[0;34m(self, name)\u001b[0m\n\u001b[1;32m   3090\u001b[0m \u001b[38;5;250m\u001b[39m\u001b[38;5;124;03m\"\"\"Returns the :class:`Column` denoted by ``name``.\u001b[39;00m\n\u001b[1;32m   3091\u001b[0m \n\u001b[1;32m   3092\u001b[0m \u001b[38;5;124;03m.. versionadded:: 1.3.0\u001b[39;00m\n\u001b[0;32m   (...)\u001b[0m\n\u001b[1;32m   3120\u001b[0m \u001b[38;5;124;03m+---+\u001b[39;00m\n\u001b[1;32m   3121\u001b[0m \u001b[38;5;124;03m\"\"\"\u001b[39;00m\n\u001b[1;32m   3122\u001b[0m \u001b[38;5;28;01mif\u001b[39;00m name \u001b[38;5;129;01mnot\u001b[39;00m \u001b[38;5;129;01min\u001b[39;00m \u001b[38;5;28mself\u001b[39m\u001b[38;5;241m.\u001b[39mcolumns:\n\u001b[0;32m-> 3123\u001b[0m     \u001b[38;5;28;01mraise\u001b[39;00m \u001b[38;5;167;01mAttributeError\u001b[39;00m(\n\u001b[1;32m   3124\u001b[0m         \u001b[38;5;124m\"\u001b[39m\u001b[38;5;124m'\u001b[39m\u001b[38;5;132;01m%s\u001b[39;00m\u001b[38;5;124m'\u001b[39m\u001b[38;5;124m object has no attribute \u001b[39m\u001b[38;5;124m'\u001b[39m\u001b[38;5;132;01m%s\u001b[39;00m\u001b[38;5;124m'\u001b[39m\u001b[38;5;124m\"\u001b[39m \u001b[38;5;241m%\u001b[39m (\u001b[38;5;28mself\u001b[39m\u001b[38;5;241m.\u001b[39m\u001b[38;5;18m__class__\u001b[39m\u001b[38;5;241m.\u001b[39m\u001b[38;5;18m__name__\u001b[39m, name)\n\u001b[1;32m   3125\u001b[0m     )\n\u001b[1;32m   3126\u001b[0m jc \u001b[38;5;241m=\u001b[39m \u001b[38;5;28mself\u001b[39m\u001b[38;5;241m.\u001b[39m_jdf\u001b[38;5;241m.\u001b[39mapply(name)\n\u001b[1;32m   3127\u001b[0m \u001b[38;5;28;01mreturn\u001b[39;00m Column(jc)\n",
      "\u001b[0;31mAttributeError\u001b[0m: 'DataFrame' object has no attribute 'cancelled'"
     ]
    }
   ],
   "source": [
    "# Count total number of airports, departure and destination airports\n",
    "total_airports = airports_df.select('faa').distinct().count()\n",
    "departure_airports = flights_df.select('origin').distinct().count()\n",
    "destination_airports = flights_df.select('dest').distinct().count()\n",
    "\n",
    "# Count airports that do not observe daylight saving time (dst column is 'N')\n",
    "airports_no_dst = airports_df.filter(airports_df.dst == 'N').count()\n",
    "\n",
    "# Count different timezones\n",
    "timezones = airports_df.select('tzone').distinct().count()\n",
    "\n",
    "# Count companies, planes, and cancelled flights\n",
    "companies = airlines_df.count()\n",
    "planes = planes_df.count()\n",
    "cancelled_flights = flights_df.filter(flights_df.cancelled == 1).count()\n",
    "\n",
    "(total_airports, departure_airports, destination_airports, airports_no_dst, timezones, companies, planes, cancelled_flights)\n"
   ]
  },
  {
   "cell_type": "markdown",
   "metadata": {},
   "source": [
    "## Request 2: Most and Least Frequented Departure and Destination Airports"
   ]
  },
  {
   "cell_type": "code",
   "execution_count": 10,
   "metadata": {},
   "outputs": [
    {
     "data": {
      "text/plain": [
       "(Row(origin='EWR', count=91374),\n",
       " DataFrame[dest: string, count: bigint],\n",
       " DataFrame[dest: string, count: bigint],\n",
       " DataFrame[tailnum: string, count: bigint],\n",
       " DataFrame[tailnum: string, count: bigint])"
      ]
     },
     "execution_count": 10,
     "metadata": {},
     "output_type": "execute_result"
    }
   ],
   "source": [
    "from pyspark.sql.functions import desc, asc\n",
    "\n",
    "# Most used departure airport\n",
    "most_used_departure_airport = flights_df.groupBy(\"origin\").count().orderBy(desc(\"count\")).first()\n",
    "\n",
    "# Top 10 most used destinations\n",
    "top10_destinations = flights_df.groupBy(\"dest\").count().orderBy(desc(\"count\")).limit(10)\n",
    "\n",
    "# Top 10 least used destinations\n",
    "bottom10_destinations = flights_df.groupBy(\"dest\").count().orderBy(asc(\"count\")).limit(10)\n",
    "\n",
    "# Top 10 planes that have taken off the most\n",
    "top10_planes_takeoff = flights_df.groupBy(\"tailnum\").count().orderBy(desc(\"count\")).limit(10)\n",
    "\n",
    "# Top 10 planes that have taken off the least\n",
    "bottom10_planes_takeoff = flights_df.groupBy(\"tailnum\").count().orderBy(asc(\"count\")).limit(10)\n",
    "\n",
    "(most_used_departure_airport, top10_destinations, bottom10_destinations, top10_planes_takeoff, bottom10_planes_takeoff)\n"
   ]
  },
  {
   "cell_type": "markdown",
   "metadata": {},
   "source": [
    "## Request 3: Destinations Served by Each Company"
   ]
  },
  {
   "cell_type": "code",
   "execution_count": 11,
   "metadata": {},
   "outputs": [
    {
     "ename": "NameError",
     "evalue": "name 'countDistinct' is not defined",
     "output_type": "error",
     "traceback": [
      "\u001b[0;31m---------------------------------------------------------------------------\u001b[0m",
      "\u001b[0;31mNameError\u001b[0m                                 Traceback (most recent call last)",
      "Cell \u001b[0;32mIn[11], line 2\u001b[0m\n\u001b[1;32m      1\u001b[0m \u001b[38;5;66;03m# Destinations served by each company\u001b[39;00m\n\u001b[0;32m----> 2\u001b[0m destinations_by_company \u001b[38;5;241m=\u001b[39m flights_df\u001b[38;5;241m.\u001b[39mgroupBy(\u001b[38;5;124m\"\u001b[39m\u001b[38;5;124mcarrier\u001b[39m\u001b[38;5;124m\"\u001b[39m)\u001b[38;5;241m.\u001b[39magg(\u001b[43mcountDistinct\u001b[49m(\u001b[38;5;124m\"\u001b[39m\u001b[38;5;124mdest\u001b[39m\u001b[38;5;124m\"\u001b[39m))\n\u001b[1;32m      4\u001b[0m \u001b[38;5;66;03m# Destinations served by each company by airport of origin\u001b[39;00m\n\u001b[1;32m      5\u001b[0m destinations_by_company_by_airport \u001b[38;5;241m=\u001b[39m flights_df\u001b[38;5;241m.\u001b[39mgroupBy(\u001b[38;5;124m\"\u001b[39m\u001b[38;5;124mcarrier\u001b[39m\u001b[38;5;124m\"\u001b[39m, \u001b[38;5;124m\"\u001b[39m\u001b[38;5;124morigin\u001b[39m\u001b[38;5;124m\"\u001b[39m)\u001b[38;5;241m.\u001b[39magg(countDistinct(\u001b[38;5;124m\"\u001b[39m\u001b[38;5;124mdest\u001b[39m\u001b[38;5;124m\"\u001b[39m))\n",
      "\u001b[0;31mNameError\u001b[0m: name 'countDistinct' is not defined"
     ]
    }
   ],
   "source": [
    "# Destinations served by each company\n",
    "destinations_by_company = flights_df.groupBy(\"carrier\").agg(countDistinct(\"dest\"))\n",
    "\n",
    "# Destinations served by each company by airport of origin\n",
    "destinations_by_company_by_airport = flights_df.groupBy(\"carrier\", \"origin\").agg(countDistinct(\"dest\"))\n",
    "\n",
    "(destinations_by_company, destinations_by_company_by_airport)\n"
   ]
  },
  {
   "cell_type": "markdown",
   "metadata": {},
   "source": [
    "## Request 4: Flights to Houston and NYC to Seattle Information"
   ]
  },
  {
   "cell_type": "code",
   "execution_count": null,
   "metadata": {},
   "outputs": [],
   "source": [
    "# Flights that landed in Houston (IAH or HOU)\n",
    "flights_to_houston = flights_df.filter(flights_df[\"dest\"].isin([\"IAH\", \"HOU\"]))\n",
    "\n",
    "# Flights from NYC airports to Seattle\n",
    "nyc_to_seattle_flights = flights_df.filter(flights_df[\"origin\"].isin([\"JFK\", \"LGA\", \"EWR\"]) & (flights_df[\"dest\"] == \"SEA\"))\n",
    "\n",
    "# Number of companies serving from NYC to Seattle\n",
    "companies_serving_nyc_sea = nyc_to_seattle_flights.select(\"carrier\").distinct().count()\n",
    "\n",
    "# Number of unique planes serving from NYC to Seattle\n",
    "unique_planes_nyc_sea = nyc_to_seattle_flights.select(\"tailnum\").distinct().count()\n",
    "\n",
    "(flights_to_houston.count(), nyc_to_seattle_flights.count(), companies_serving_nyc_sea, unique_planes_nyc_sea)\n"
   ]
  },
  {
   "cell_type": "markdown",
   "metadata": {},
   "source": [
    "## Request 5: Number of Flights per Destination"
   ]
  },
  {
   "cell_type": "markdown",
   "metadata": {},
   "source": [
    "## Request 6: Companies Not Operating on All Airports"
   ]
  },
  {
   "cell_type": "code",
   "execution_count": null,
   "metadata": {},
   "outputs": [],
   "source": []
  }
 ],
 "metadata": {
  "kernelspec": {
   "display_name": "Python 3 (ipykernel)",
   "language": "python",
   "name": "python3"
  },
  "language_info": {
   "codemirror_mode": {
    "name": "ipython",
    "version": 3
   },
   "file_extension": ".py",
   "mimetype": "text/x-python",
   "name": "python",
   "nbconvert_exporter": "python",
   "pygments_lexer": "ipython3",
   "version": "3.11.6"
  }
 },
 "nbformat": 4,
 "nbformat_minor": 4
}
