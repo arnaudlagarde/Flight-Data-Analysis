{
 "cells": [
  {
   "cell_type": "code",
   "execution_count": 1,
   "metadata": {
    "vscode": {
     "languageId": "plaintext"
    }
   },
   "outputs": [
    {
     "name": "stdout",
     "output_type": "stream",
     "text": [
      "Requirement already satisfied: pyspark in /usr/local/spark/python (3.5.0)\n",
      "Requirement already satisfied: py4j==0.10.9.7 in /opt/conda/lib/python3.11/site-packages (from pyspark) (0.10.9.7)\n"
     ]
    }
   ],
   "source": [
    "!pip install pyspark\n"
   ]
  },
  {
   "cell_type": "code",
   "execution_count": 2,
   "metadata": {
    "vscode": {
     "languageId": "plaintext"
    }
   },
   "outputs": [],
   "source": [
    "from pyspark.sql import SparkSession\n",
    "\n",
    "spark = SparkSession.builder \\\n",
    "    .appName(\"PySparkMySQLIntegration\") \\\n",
    "    .config(\"spark.jars.packages\", \"mysql:mysql-connector-java:8.0.30\") \\\n",
    "    .getOrCreate()\n"
   ]
  },
  {
   "cell_type": "code",
   "execution_count": 3,
   "metadata": {},
   "outputs": [],
   "source": [
    "flights_df = spark.read.format(\"jdbc\") \\\n",
    "    .option(\"url\", \"jdbc:mysql://mysql-nadim.alwaysdata.net:3306/nadim_db\") \\\n",
    "    .option(\"driver\", \"com.mysql.cj.jdbc.Driver\") \\\n",
    "    .option(\"dbtable\", \"flights\") \\\n",
    "    .option(\"user\", \"nadim\") \\\n",
    "    .option(\"password\", \"root123456789@\") \\\n",
    "    .load()\n"
   ]
  },
  {
   "cell_type": "code",
   "execution_count": null,
   "metadata": {},
   "outputs": [],
   "source": [
    "flights_df.show()\n"
   ]
  },
  {
   "cell_type": "code",
   "execution_count": null,
   "metadata": {},
   "outputs": [],
   "source": [
    "planes_df = spark.read.format(\"jdbc\") \\\n",
    "    .option(\"url\", \"jdbc:mysql://mysql-nadim.alwaysdata.net:3306/nadim_db\") \\\n",
    "    .option(\"driver\", \"com.mysql.cj.jdbc.Driver\") \\\n",
    "    .option(\"dbtable\", \"planes\") \\\n",
    "    .option(\"user\", \"nadim\") \\\n",
    "    .option(\"password\", \"root123456789@\") \\\n",
    "    .load()\n"
   ]
  },
  {
   "cell_type": "code",
   "execution_count": null,
   "metadata": {},
   "outputs": [],
   "source": [
    "weather_df = spark.read.format(\"jdbc\") \\\n",
    "    .option(\"url\", \"jdbc:mysql://mysql-nadim.alwaysdata.net:3306/nadim_db\") \\\n",
    "    .option(\"driver\", \"com.mysql.cj.jdbc.Driver\") \\\n",
    "    .option(\"dbtable\", \"weather\") \\\n",
    "    .option(\"user\", \"nadim\") \\\n",
    "    .option(\"password\", \"root123456789@\") \\\n",
    "    .load()\n"
   ]
  },
  {
   "cell_type": "code",
   "execution_count": null,
   "metadata": {},
   "outputs": [],
   "source": [
    "airlines_df = spark.read.format(\"jdbc\") \\\n",
    "    .option(\"url\", \"jdbc:mysql://mysql-nadim.alwaysdata.net:3306/nadim_db\") \\\n",
    "    .option(\"driver\", \"com.mysql.cj.jdbc.Driver\") \\\n",
    "    .option(\"dbtable\", \"airlines\") \\\n",
    "    .option(\"user\", \"nadim\") \\\n",
    "    .option(\"password\", \"root123456789@\") \\\n",
    "    .load()\n"
   ]
  },
  {
   "cell_type": "code",
   "execution_count": null,
   "metadata": {},
   "outputs": [],
   "source": [
    "airports_df = spark.read.format(\"jdbc\") \\\n",
    "    .option(\"url\", \"jdbc:mysql://mysql-nadim.alwaysdata.net:3306/nadim_db\") \\\n",
    "    .option(\"driver\", \"com.mysql.cj.jdbc.Driver\") \\\n",
    "    .option(\"dbtable\", \"airports\") \\\n",
    "    .option(\"user\", \"nadim\") \\\n",
    "    .option(\"password\", \"root123456789@\") \\\n",
    "    .load()\n"
   ]
  },
  {
   "cell_type": "code",
   "execution_count": null,
   "metadata": {},
   "outputs": [],
   "source": [
    "flights_df.printSchema()\n"
   ]
  },
  {
   "cell_type": "code",
   "execution_count": null,
   "metadata": {},
   "outputs": [],
   "source": [
    "weather_df.printSchema()\n"
   ]
  },
  {
   "cell_type": "code",
   "execution_count": null,
   "metadata": {},
   "outputs": [],
   "source": [
    "planes_df.printSchema()\n"
   ]
  },
  {
   "cell_type": "code",
   "execution_count": null,
   "metadata": {},
   "outputs": [],
   "source": [
    "airports_df.printSchema()\n"
   ]
  },
  {
   "cell_type": "code",
   "execution_count": null,
   "metadata": {},
   "outputs": [],
   "source": [
    "airlines_df.printSchema()\n"
   ]
  },
  {
   "cell_type": "markdown",
   "metadata": {},
   "source": [
    "## Request 1: Counting Airports, Timezones, Companies, Planes, and Cancelled Flights\n"
   ]
  },
  {
   "cell_type": "markdown",
   "metadata": {},
   "source": [
    "### 1.1. Nombre d'aéroports au total, en tant que départ et en tant que destination :"
   ]
  },
  {
   "cell_type": "code",
   "execution_count": null,
   "metadata": {},
   "outputs": [],
   "source": [
    "# Compter les aéroports distincts en tant que départ et destination\n",
    "from pyspark.sql.functions import col\n",
    "\n",
    "total_airports = flights_df.select(col(\"origin\").alias(\"airport\")).union(flights_df.select(col(\"dest\").alias(\"airport\"))).distinct().count()\n",
    "departure_airports = flights_df.select(\"origin\").distinct().count()\n",
    "destination_airports = flights_df.select(\"dest\").distinct().count()\n",
    "\n",
    "total_airports, departure_airports, destination_airports\n"
   ]
  },
  {
   "cell_type": "markdown",
   "metadata": {},
   "source": [
    "### 1.2. Combien d'aéroports n'observent pas l'heure d'été (DST) et combien de fuseaux horaires y a-t-il ?"
   ]
  },
  {
   "cell_type": "code",
   "execution_count": null,
   "metadata": {},
   "outputs": [],
   "source": [
    "# Compter les aéroports qui n'observent pas l'heure d'été (DST) et les fuseaux horaires distincts\n",
    "from pyspark.sql.functions import col\n",
    "\n",
    "airports_without_dst = airports_df.filter(col(\"dst\") == \"N\").count()\n",
    "distinct_timezones = airports_df.select(\"tzone\").distinct().count()\n",
    "\n",
    "airports_without_dst, distinct_timezones\n"
   ]
  },
  {
   "cell_type": "markdown",
   "metadata": {},
   "source": [
    "### 1.3. Combien de compagnies aériennes, d'avions et de vols annulés ?"
   ]
  },
  {
   "cell_type": "code",
   "execution_count": null,
   "metadata": {},
   "outputs": [],
   "source": [
    "# Compter les compagnies aériennes distinctes et les avions distincts\n",
    "distinct_airlines = airlines_df.select(\"carrier\").distinct().count()\n",
    "distinct_planes = planes_df.select(\"tailnum\").distinct().count()\n",
    "\n",
    "distinct_airlines, distinct_planes\n"
   ]
  },
  {
   "cell_type": "markdown",
   "metadata": {},
   "source": [
    "### 2. Quel est l'aéroport de départ le plus emprunté ?"
   ]
  },
  {
   "cell_type": "code",
   "execution_count": null,
   "metadata": {},
   "outputs": [],
   "source": [
    "from pyspark.sql.functions import desc\n",
    "\n",
    "# Trouver l'aéroport de départ le plus emprunté\n",
    "most_used_departure_airport = flights_df.groupBy(\"origin\").count().orderBy(desc(\"count\")).first()[\"origin\"]\n",
    "\n",
    "most_used_departure_airport\n"
   ]
  },
  {
   "cell_type": "markdown",
   "metadata": {},
   "source": [
    "### 2.1. Quelles sont les 10 destinations les plus (moins) prisées (en indiquant le nom complet des destinations et le % correspondant pour chaque destination) ?"
   ]
  },
  {
   "cell_type": "code",
   "execution_count": null,
   "metadata": {},
   "outputs": [],
   "source": [
    "# Trouver les 10 destinations les plus prisées\n",
    "top_10_destinations = flights_df.groupBy(\"dest\").count().orderBy(desc(\"count\")).limit(10)\n",
    "\n",
    "# Trouver les 10 destinations les moins prisées\n",
    "bottom_10_destinations = flights_df.groupBy(\"dest\").count().orderBy(\"count\").limit(10)\n",
    "\n",
    "top_10_destinations.show()\n",
    "bottom_10_destinations.show()\n"
   ]
  },
  {
   "cell_type": "markdown",
   "metadata": {},
   "source": [
    "### 2.2. Quelles sont les 10 avions qui ont le plus (moins) décollé ?"
   ]
  },
  {
   "cell_type": "code",
   "execution_count": null,
   "metadata": {},
   "outputs": [],
   "source": [
    "# Trouver les 10 avions qui ont le plus décollé\n",
    "top_10_airplanes = flights_df.groupBy(\"tailnum\").count().orderBy(desc(\"count\")).limit(10)\n",
    "\n",
    "# Trouver les 10 avions qui ont le moins décollé\n",
    "bottom_10_airplanes = flights_df.groupBy(\"tailnum\").count().orderBy(\"count\").limit(10)\n",
    "\n",
    "top_10_airplanes.show()\n",
    "bottom_10_airplanes.show()\n"
   ]
  },
  {
   "cell_type": "markdown",
   "metadata": {},
   "source": [
    "### 3. Combien chaque compagnie a desservi de destinations ?"
   ]
  },
  {
   "cell_type": "code",
   "execution_count": null,
   "metadata": {},
   "outputs": [],
   "source": [
    "from pyspark.sql import functions as F\n",
    "\n",
    "# Compter le nombre de destinations desservies par chaque compagnie\n",
    "destinations_per_airline = flights_df.groupBy(\"carrier\") \\\n",
    "    .agg(F.count(\"dest\").alias(\"number_of_destinations_served\"))\n",
    "\n",
    "destinations_per_airline.show()\n"
   ]
  },
  {
   "cell_type": "markdown",
   "metadata": {},
   "source": [
    "### 3.1. Combien chaque compagnie a desservi de destinations par aéroport d'origine ?"
   ]
  },
  {
   "cell_type": "code",
   "execution_count": null,
   "metadata": {},
   "outputs": [],
   "source": [
    "# Compter le nombre de destinations desservies par chaque compagnie par aéroport d'origine\n",
    "destinations_per_airline_per_origin = flights_df.groupBy(\"origin\", \"carrier\").agg({\"dest\": \"count\"})\n",
    "\n",
    "destinations_per_airline_per_origin.show()\n"
   ]
  },
  {
   "cell_type": "markdown",
   "metadata": {},
   "source": [
    "### 4. Trouver tous les vols ayant atterri à Houston (IAH ou HOU) ?\n",
    "\n"
   ]
  },
  {
   "cell_type": "code",
   "execution_count": null,
   "metadata": {},
   "outputs": [],
   "source": [
    "# Trouver tous les vols ayant atterri à Houston (IAH ou HOU)\n",
    "flights_to_houston = flights_df.filter((flights_df[\"dest\"] == \"IAH\") | (flights_df[\"dest\"] == \"HOU\"))\n",
    "\n",
    "flights_to_houston.show()\n"
   ]
  },
  {
   "cell_type": "markdown",
   "metadata": {},
   "source": [
    "## 4.1. Combien de vols partent des aéroports de New York (NYC) vers Seattle ?"
   ]
  },
  {
   "cell_type": "code",
   "execution_count": null,
   "metadata": {},
   "outputs": [],
   "source": [
    "# Combien de vols partent des aéroports de New York (NYC) vers Seattle ?\n",
    "flights_to_seattle = flights_df.filter((flights_df[\"origin\"].startswith(\"JFK\")) | (flights_df[\"origin\"].startswith(\"LGA\")) | (flights_df[\"origin\"].startswith(\"EWR\"))) \\\n",
    "    .filter(flights_df[\"dest\"] == \"SEA\")\n",
    "\n",
    "flights_to_seattle.count()\n"
   ]
  },
  {
   "cell_type": "markdown",
   "metadata": {},
   "source": [
    "## 4.2. Combien de compagnies desservent la destination Seattle (SEA) et combien d'avions uniques volent vers Seattle ?"
   ]
  },
  {
   "cell_type": "code",
   "execution_count": null,
   "metadata": {},
   "outputs": [],
   "source": [
    "# Combien de compagnies desservent la destination Seattle (SEA) ?\n",
    "unique_carriers_to_seattle = flights_to_seattle.select(\"carrier\").distinct().count()\n",
    "\n",
    "# Combien d'avions uniques volent vers Seattle ?\n",
    "unique_airplanes_to_seattle = flights_to_seattle.select(\"tailnum\").distinct().count()\n",
    "\n",
    "unique_carriers_to_seattle, unique_airplanes_to_seattle\n"
   ]
  },
  {
   "cell_type": "markdown",
   "metadata": {},
   "source": [
    "## 5. Trouver le nombre de vols par destination ?"
   ]
  },
  {
   "cell_type": "code",
   "execution_count": null,
   "metadata": {},
   "outputs": [],
   "source": [
    "# Trouver le nombre de vols par destination\n",
    "flights_per_destination = flights_df.groupBy(\"dest\").count()\n",
    "\n",
    "flights_per_destination.show()\n"
   ]
  },
  {
   "cell_type": "markdown",
   "metadata": {},
   "source": [
    "## 5.1. Trier les vols par destination, puis par aéroport d'origine, puis par compagnie dans un ordre alphabétique croissant (en réalisant les jointures nécessaires pour obtenir les noms explicites des aéroports) ?"
   ]
  },
  {
   "cell_type": "code",
   "execution_count": null,
   "metadata": {},
   "outputs": [],
   "source": [
    "from pyspark.sql.functions import asc\n",
    "\n",
    "# Jointure pour obtenir les noms explicites des aéroports\n",
    "flights_with_airport_names = flights_df.join(airports_df, flights_df[\"dest\"] == airports_df[\"faa\"], \"left\") \\\n",
    "    .select(flights_df[\"*\"], airports_df[\"name\"].alias(\"destination_name\"))\n",
    "\n",
    "# Trier les vols par destination, aéroport d'origine et compagnie en ordre alphabétique croissant\n",
    "sorted_flights = flights_with_airport_names \\\n",
    "    .orderBy(asc(\"dest\"), asc(\"origin\"), asc(\"carrier\"))\n",
    "\n",
    "sorted_flights.show()\n"
   ]
  },
  {
   "cell_type": "markdown",
   "metadata": {},
   "source": [
    "## 6. Quelles sont les compagnies qui n'opèrent pas sur tous les aéroports d'origine ?"
   ]
  },
  {
   "cell_type": "code",
   "execution_count": null,
   "metadata": {},
   "outputs": [],
   "source": [
    "from pyspark.sql.functions import col\n",
    "\n",
    "# Trouver les compagnies qui n'opèrent pas sur tous les aéroports d'origine\n",
    "companies_not_operating_on_all_origins = flights_df.groupBy(\"carrier\", \"origin\").count() \\\n",
    "    .groupBy(\"carrier\").count() \\\n",
    "    .filter(col(\"count\") < airports_df.select(\"faa\").distinct().count())\n",
    "\n",
    "companies_not_operating_on_all_origins.show()\n"
   ]
  },
  {
   "cell_type": "markdown",
   "metadata": {},
   "source": [
    "## 6.1. Quelles sont les compagnies qui desservent l'ensemble des destinations ?"
   ]
  },
  {
   "cell_type": "code",
   "execution_count": null,
   "metadata": {},
   "outputs": [],
   "source": [
    "from pyspark.sql.functions import collect_list\n",
    "\n",
    "# Trouver les compagnies qui desservent l'ensemble des destinations\n",
    "all_destinations = airports_df.select(\"faa\").distinct().collect()\n",
    "all_destinations_list = [row.faa for row in all_destinations]\n",
    "\n",
    "companies_serving_all_destinations = flights_df.groupBy(\"carrier\", \"dest\").count() \\\n",
    "    .groupBy(\"carrier\").agg(collect_list(\"dest\").alias(\"served_destinations\")) \\\n",
    "    .filter(col(\"served_destinations\") == all_destinations_list)\n",
    "\n",
    "companies_serving_all_destinations.show()\n"
   ]
  },
  {
   "cell_type": "markdown",
   "metadata": {},
   "source": [
    "## 7. Quelles sont les destinations qui sont exclusives à certaines compagnies ?"
   ]
  },
  {
   "cell_type": "code",
   "execution_count": null,
   "metadata": {},
   "outputs": [],
   "source": [
    "from pyspark.sql.functions import collect_list\n",
    "\n",
    "# Trouver les destinations qui sont exclusives à certaines compagnies\n",
    "destinations_per_company = flights_df.groupBy(\"carrier\").agg(collect_list(\"dest\").alias(\"served_destinations\"))\n",
    "\n",
    "all_destinations = airports_df.select(\"faa\").distinct().collect()\n",
    "all_destinations_list = [row.faa for row in all_destinations]\n",
    "\n",
    "exclusive_destinations = destinations_per_company.filter(~col(\"served_destinations\").contains(all_destinations_list))\n",
    "\n",
    "exclusive_destinations.show()\n"
   ]
  },
  {
   "cell_type": "markdown",
   "metadata": {},
   "source": [
    "## 8. Filtrer les vols pour trouver ceux exploités par United (UA), American (AA) ou Delta (DL) ?"
   ]
  },
  {
   "cell_type": "code",
   "execution_count": null,
   "metadata": {},
   "outputs": [],
   "source": [
    "# Filtrer les vols exploités par United (UA), American (AA) ou Delta (DL)\n",
    "selected_airlines = [\"UA\", \"AA\", \"DL\"]\n",
    "\n",
    "flights_operated_by_selected_airlines = flights_df.filter(flights_df[\"carrier\"].isin(selected_airlines))\n",
    "\n",
    "flights_operated_by_selected_airlines.show()\n"
   ]
  },
  {
   "cell_type": "markdown",
   "metadata": {},
   "source": [
    "## Request 4: Flights to Houston and NYC to Seattle Information"
   ]
  },
  {
   "cell_type": "code",
   "execution_count": null,
   "metadata": {},
   "outputs": [],
   "source": [
    "# Flights that landed in Houston (IAH or HOU)\n",
    "flights_to_houston = flights_df.filter(flights_df[\"dest\"].isin([\"IAH\", \"HOU\"]))\n",
    "\n",
    "# Flights from NYC airports to Seattle\n",
    "nyc_to_seattle_flights = flights_df.filter(flights_df[\"origin\"].isin([\"JFK\", \"LGA\", \"EWR\"]) & (flights_df[\"dest\"] == \"SEA\"))\n",
    "\n",
    "# Number of companies serving from NYC to Seattle\n",
    "companies_serving_nyc_sea = nyc_to_seattle_flights.select(\"carrier\").distinct().count()\n",
    "\n",
    "# Number of unique planes serving from NYC to Seattle\n",
    "unique_planes_nyc_sea = nyc_to_seattle_flights.select(\"tailnum\").distinct().count()\n",
    "\n",
    "(flights_to_houston.count(), nyc_to_seattle_flights.count(), companies_serving_nyc_sea, unique_planes_nyc_sea)\n"
   ]
  },
  {
   "cell_type": "markdown",
   "metadata": {},
   "source": [
    "## Request 5: Number of Flights per Destination"
   ]
  },
  {
   "cell_type": "code",
   "execution_count": null,
   "metadata": {},
   "outputs": [],
   "source": [
    "# Number of flights per destination\n",
    "flights_per_destination = flights_df.groupBy(\"dest\").count()\n",
    "\n",
    "# Sorting flights by destination, origin, and carrier\n",
    "sorted_flights = flights_df.join(airports_df, flights_df[\"dest\"] == airports_df[\"faa\"]) \\\n",
    "    .join(airlines_df, flights_df[\"carrier\"] == airlines_df[\"carrier\"]) \\\n",
    "    .orderBy(\"dest\", \"origin\", \"carrier\")\n",
    "\n",
    "(flights_per_destination, sorted_flights)\n"
   ]
  },
  {
   "cell_type": "code",
   "execution_count": null,
   "metadata": {},
   "outputs": [],
   "source": [
    "from pyspark.sql.functions import col, count\n",
    "\n",
    "# Count the number of flights per destination\n",
    "flights_per_destination = flights_df.groupBy(\"dest\").agg(count(\"*\").alias(\"num_flights\"))\n",
    "\n",
    "# Join the flights with the airports DataFrame to get the full names\n",
    "flights_with_airports = flights_df.join(airports_df, flights_df.dest == airports_df.faa, \"left_outer\") \\\n",
    "                                  .select(\"dest\", \"name\", \"origin\", \"carrier\")\n",
    "\n",
    "# Join the flights_with_airports with the airlines DataFrame to get the full names of the airlines\n",
    "flights_with_airports_and_airlines = flights_with_airports.join(airlines_df, flights_with_airports.carrier == airlines_df.carrier, \"left_outer\") \\\n",
    "                                                          .select(\"name\", \"origin\", \"carrier\", \"airline\")\n",
    "\n",
    "# Sort the results by destination name, origin, and airline in ascending order\n",
    "sorted_flights = flights_with_airports_and_airlines.orderBy(col(\"name\"), col(\"origin\"), col(\"airline\"))\n",
    "\n",
    "# Show the sorted flights DataFrame\n",
    "sorted_flights.show()\n"
   ]
  },
  {
   "cell_type": "markdown",
   "metadata": {},
   "source": [
    "## Request 6: Companies Not Operating on All Airports"
   ]
  },
  {
   "cell_type": "code",
   "execution_count": null,
   "metadata": {},
   "outputs": [],
   "source": [
    "from pyspark.sql.functions import collect_set\n",
    "\n",
    "# Find all unique origins and destinations\n",
    "unique_origins = flights_df.select(\"origin\").distinct()\n",
    "unique_destinations = flights_df.select(\"dest\").distinct()\n",
    "\n",
    "# Count the total number of unique origins and destinations\n",
    "num_unique_origins = unique_origins.count()\n",
    "num_unique_destinations = unique_destinations.count()\n",
    "\n",
    "# Aggregate all origins and destinations per airline\n",
    "airlines_origins = flights_df.groupBy(\"carrier\").agg(collect_set(\"origin\").alias(\"served_origins\"))\n",
    "airlines_destinations = flights_df.groupBy(\"carrier\").agg(collect_set(\"dest\").alias(\"served_destinations\"))\n",
    "\n",
    "# Find airlines that do not operate on all airports\n",
    "airlines_not_all_origins = airlines_origins.filter(size(col(\"served_origins\")) < num_unique_origins)\n",
    "airlines_all_destinations = airlines_destinations.filter(size(col(\"served_destinations\")) == num_unique_destinations)\n",
    "\n",
    "# Show airlines that do not operate on all airports and those that serve all destinations\n",
    "airlines_not_all_origins.show()\n",
    "airlines_all_destinations.show()\n"
   ]
  },
  {
   "cell_type": "markdown",
   "metadata": {},
   "source": [
    "## Request 7: Quelles sont les destinations qui sont exclusives à certaines compagnies?"
   ]
  },
  {
   "cell_type": "markdown",
   "metadata": {},
   "source": [
    "## Request 8: Filtrer le vol pour trouver ceux exploités par United, American ou Delta."
   ]
  },
  {
   "cell_type": "code",
   "execution_count": null,
   "metadata": {},
   "outputs": [],
   "source": []
  }
 ],
 "metadata": {
  "kernelspec": {
   "display_name": "Python 3 (ipykernel)",
   "language": "python",
   "name": "python3"
  },
  "language_info": {
   "codemirror_mode": {
    "name": "ipython",
    "version": 3
   },
   "file_extension": ".py",
   "mimetype": "text/x-python",
   "name": "python",
   "nbconvert_exporter": "python",
   "pygments_lexer": "ipython3",
   "version": "3.11.6"
  }
 },
 "nbformat": 4,
 "nbformat_minor": 4
}
