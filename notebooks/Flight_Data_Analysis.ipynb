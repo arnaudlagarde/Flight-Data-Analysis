{
 "cells": [
  {
   "cell_type": "code",
   "execution_count": 1,
   "metadata": {
    "vscode": {
     "languageId": "plaintext"
    }
   },
   "outputs": [
    {
     "name": "stdout",
     "output_type": "stream",
     "text": [
      "Requirement already satisfied: pyspark in /usr/local/spark/python (3.5.0)\n",
      "Requirement already satisfied: py4j==0.10.9.7 in /opt/conda/lib/python3.11/site-packages (from pyspark) (0.10.9.7)\n"
     ]
    }
   ],
   "source": [
    "!pip install pyspark\n"
   ]
  },
  {
   "cell_type": "code",
   "execution_count": 2,
   "metadata": {
    "vscode": {
     "languageId": "plaintext"
    }
   },
   "outputs": [],
   "source": [
    "from pyspark.sql import SparkSession\n",
    "\n",
    "spark = SparkSession.builder \\\n",
    "    .appName(\"PySparkMySQLIntegration\") \\\n",
    "    .config(\"spark.jars.packages\", \"mysql:mysql-connector-java:8.0.30\") \\\n",
    "    .getOrCreate()\n"
   ]
  },
  {
   "cell_type": "code",
   "execution_count": 3,
   "metadata": {},
   "outputs": [],
   "source": [
    "df = spark.read.format(\"jdbc\") \\\n",
    "    .option(\"url\", \"jdbc:mysql://mysql-nadim.alwaysdata.net:3306/nadim_db\") \\\n",
    "    .option(\"driver\", \"com.mysql.cj.jdbc.Driver\") \\\n",
    "    .option(\"dbtable\", \"flights\") \\\n",
    "    .option(\"user\", \"nadim\") \\\n",
    "    .option(\"password\", \"root123456789@\") \\\n",
    "    .load()\n"
   ]
  },
  {
   "cell_type": "code",
   "execution_count": 4,
   "metadata": {},
   "outputs": [
    {
     "name": "stdout",
     "output_type": "stream",
     "text": [
      "+----+-----+---+--------+--------------+---------+--------+--------------+---------+-------+------+-------+------+----+--------+--------+----+------+-------------------+\n",
      "|year|month|day|dep_time|sched_dep_time|dep_delay|arr_time|sched_arr_time|arr_delay|carrier|flight|tailnum|origin|dest|air_time|distance|hour|minute|          time_hour|\n",
      "+----+-----+---+--------+--------------+---------+--------+--------------+---------+-------+------+-------+------+----+--------+--------+----+------+-------------------+\n",
      "|2021|    1|  1|     517|           515|        2|     830|           819|       11|     UA|  1545| N14228|   EWR| IAH|     227|    1400|   5|    15|2021-01-01 05:00:00|\n",
      "|2021|    1|  1|     533|           529|        4|     850|           830|       20|     UA|  1714| N24211|   LGA| IAH|     227|    1416|   5|    29|2021-01-01 05:00:00|\n",
      "|2021|    1|  1|     542|           540|        2|     923|           850|       33|     AA|  1141| N619AA|   JFK| MIA|     160|    1089|   5|    40|2021-01-01 05:00:00|\n",
      "|2021|    1|  1|     544|           545|       -1|    1004|          1022|      -18|     B6|   725| N804JB|   JFK| BQN|     183|    1576|   5|    45|2021-01-01 05:00:00|\n",
      "|2021|    1|  1|     554|           600|       -6|     812|           837|      -25|     DL|   461| N668DN|   LGA| ATL|     116|     762|   6|     0|2021-01-01 06:00:00|\n",
      "|2021|    1|  1|     554|           558|       -4|     740|           728|       12|     UA|  1696| N39463|   EWR| ORD|     150|     719|   5|    58|2021-01-01 05:00:00|\n",
      "|2021|    1|  1|     555|           600|       -5|     913|           854|       19|     B6|   507| N516JB|   EWR| FLL|     158|    1065|   6|     0|2021-01-01 06:00:00|\n",
      "|2021|    1|  1|     557|           600|       -3|     709|           723|      -14|     EV|  5708| N829AS|   LGA| IAD|      53|     229|   6|     0|2021-01-01 06:00:00|\n",
      "|2021|    1|  1|     557|           600|       -3|     838|           846|       -8|     B6|    79| N593JB|   JFK| MCO|     140|     944|   6|     0|2021-01-01 06:00:00|\n",
      "|2021|    1|  1|     558|           600|       -2|     753|           745|        8|     AA|   301| N3ALAA|   LGA| ORD|     138|     733|   6|     0|2021-01-01 06:00:00|\n",
      "|2021|    1|  1|     558|           600|       -2|     849|           851|       -2|     B6|    49| N793JB|   JFK| PBI|     149|    1028|   6|     0|2021-01-01 06:00:00|\n",
      "|2021|    1|  1|     558|           600|       -2|     853|           856|       -3|     B6|    71| N657JB|   JFK| TPA|     158|    1005|   6|     0|2021-01-01 06:00:00|\n",
      "|2021|    1|  1|     558|           600|       -2|     924|           917|        7|     UA|   194| N29129|   JFK| LAX|     345|    2475|   6|     0|2021-01-01 06:00:00|\n",
      "|2021|    1|  1|     558|           600|       -2|     923|           937|      -14|     UA|  1124| N53441|   EWR| SFO|     361|    2565|   6|     0|2021-01-01 06:00:00|\n",
      "|2021|    1|  1|     559|           600|       -1|     941|           910|       31|     AA|   707| N3DUAA|   LGA| DFW|     257|    1389|   6|     0|2021-01-01 06:00:00|\n",
      "|2021|    1|  1|     559|           559|        0|     702|           706|       -4|     B6|  1806| N708JB|   JFK| BOS|      44|     187|   5|    59|2021-01-01 05:00:00|\n",
      "|2021|    1|  1|     559|           600|       -1|     854|           902|       -8|     UA|  1187| N76515|   EWR| LAS|     337|    2227|   6|     0|2021-01-01 06:00:00|\n",
      "|2021|    1|  1|     600|           600|        0|     851|           858|       -7|     B6|   371| N595JB|   LGA| FLL|     152|    1076|   6|     0|2021-01-01 06:00:00|\n",
      "|2021|    1|  1|     600|           600|        0|     837|           825|       12|     MQ|  4650| N542MQ|   LGA| ATL|     134|     762|   6|     0|2021-01-01 06:00:00|\n",
      "|2021|    1|  1|     601|           600|        1|     844|           850|       -6|     B6|   343| N644JB|   EWR| PBI|     147|    1023|   6|     0|2021-01-01 06:00:00|\n",
      "+----+-----+---+--------+--------------+---------+--------+--------------+---------+-------+------+-------+------+----+--------+--------+----+------+-------------------+\n",
      "only showing top 20 rows\n",
      "\n"
     ]
    }
   ],
   "source": [
    "df.show()\n"
   ]
  },
  {
   "cell_type": "code",
   "execution_count": 5,
   "metadata": {},
   "outputs": [
    {
     "name": "stdout",
     "output_type": "stream",
     "text": [
      "+----+-----+---+--------+--------------+---------+--------+--------------+---------+-------+------+-------+------+----+--------+--------+----+------+-------------------+\n",
      "|year|month|day|dep_time|sched_dep_time|dep_delay|arr_time|sched_arr_time|arr_delay|carrier|flight|tailnum|origin|dest|air_time|distance|hour|minute|          time_hour|\n",
      "+----+-----+---+--------+--------------+---------+--------+--------------+---------+-------+------+-------+------+----+--------+--------+----+------+-------------------+\n",
      "|2021|    1|  1|     811|           630|      101|    1047|           830|      137|     MQ|  4576| N531MQ|   LGA| CLT|     118|     544|   6|    30|2021-01-01 06:00:00|\n",
      "|2021|    1|  1|     826|           715|       71|    1136|          1045|       51|     AA|   443| N3GVAA|   JFK| MIA|     160|    1089|   7|    15|2021-01-01 07:00:00|\n",
      "|2021|    1|  1|     848|          1835|      853|    1001|          1950|      851|     MQ|  3944| N942MQ|   JFK| BWI|      41|     184|  18|    35|2021-01-01 18:00:00|\n",
      "|2021|    1|  1|     957|           733|      144|    1056|           853|      123|     UA|   856| N534UA|   EWR| BOS|      37|     200|   7|    33|2021-01-01 07:00:00|\n",
      "|2021|    1|  1|    1114|           900|      134|    1447|          1222|      145|     UA|  1086| N76502|   LGA| IAH|     248|    1416|   9|     0|2021-01-01 09:00:00|\n",
      "|2021|    1|  1|    1120|           944|       96|    1331|          1213|       78|     EV|  4495| N16561|   EWR| SAV|     117|     708|   9|    44|2021-01-01 09:00:00|\n",
      "|2021|    1|  1|    1301|          1150|       71|    1518|          1345|       93|     MQ|  4646| N542MQ|   LGA| MSP|     170|    1020|  11|    50|2021-01-01 11:00:00|\n",
      "|2021|    1|  1|    1337|          1220|       77|    1649|          1531|       78|     B6|   673| N636JB|   JFK| LAX|     352|    2475|  12|    20|2021-01-01 12:00:00|\n",
      "|2021|    1|  1|    1400|          1250|       70|    1645|          1502|      103|     EV|  4869| N748EV|   LGA| MEM|     178|     963|  12|    50|2021-01-01 12:00:00|\n",
      "|2021|    1|  1|    1505|          1310|      115|    1638|          1431|      127|     EV|  4497| N17984|   EWR| RIC|      63|     277|  13|    10|2021-01-01 13:00:00|\n",
      "|2021|    1|  1|    1525|          1340|      105|    1831|          1626|      125|     B6|   525| N231JB|   EWR| MCO|     152|     937|  13|    40|2021-01-01 13:00:00|\n",
      "|2021|    1|  1|    1540|          1338|      122|    2020|          1825|      115|     B6|   705| N570JB|   JFK| SJU|     193|    1598|  13|    38|2021-01-01 13:00:00|\n",
      "|2021|    1|  1|    1548|          1420|       88|    1751|          1620|       91|     MQ|  4588| N6EAMQ|   LGA| MSP|     167|    1020|  14|    20|2021-01-01 14:00:00|\n",
      "|2021|    1|  1|    1549|          1445|       64|    1912|          1656|      136|     EV|  4181| N21197|   EWR| MCI|     234|    1092|  14|    45|2021-01-01 14:00:00|\n",
      "|2021|    1|  1|    1558|          1359|      119|    1718|          1515|      123|     EV|  5712| N826AS|   JFK| IAD|      53|     228|  13|    59|2021-01-01 13:00:00|\n",
      "|2021|    1|  1|    1607|          1443|       84|    1711|          1553|       78|     UA|   465| N435UA|   EWR| BOS|      35|     200|  14|    43|2021-01-01 14:00:00|\n",
      "|2021|    1|  1|    1627|          1459|       88|    1925|          1805|       80|     B6|    63| N599JB|   JFK| TPA|     159|    1005|  14|    59|2021-01-01 14:00:00|\n",
      "|2021|    1|  1|    1628|          1524|       64|    1740|          1641|       59|     EV|  4133| N14959|   EWR| IAD|      53|     212|  15|    24|2021-01-01 15:00:00|\n",
      "|2021|    1|  1|    1639|          1517|       82|    1815|          1639|       96|     EV|  4580| N16561|   EWR| MKE|     140|     725|  15|    17|2021-01-01 15:00:00|\n",
      "|2021|    1|  1|    1711|          1600|       71|    2005|          1857|       68|     B6|   369| N579JB|   LGA| PBI|     149|    1035|  16|     0|2021-01-01 16:00:00|\n",
      "+----+-----+---+--------+--------------+---------+--------+--------------+---------+-------+------+-------+------+----+--------+--------+----+------+-------------------+\n",
      "only showing top 20 rows\n",
      "\n"
     ]
    }
   ],
   "source": [
    "delayed_flights = df.filter(df['dep_delay'] > 60)\n",
    "delayed_flights.show()\n"
   ]
  },
  {
   "cell_type": "code",
   "execution_count": 6,
   "metadata": {},
   "outputs": [
    {
     "name": "stdout",
     "output_type": "stream",
     "text": [
      "+-------+------------------+\n",
      "|carrier|         avg_delay|\n",
      "+-------+------------------+\n",
      "|     UA|11.770046494583266|\n",
      "|     AA|  8.71545793617903|\n",
      "|     EV| 21.21258061160807|\n",
      "|     B6| 12.25866205020403|\n",
      "|     DL|  8.39515361799765|\n",
      "|     OO|            24.125|\n",
      "|     F9|20.514506769825918|\n",
      "|     YV|19.854881266490764|\n",
      "|     US| 3.324054867848779|\n",
      "|     MQ|10.272357723577235|\n",
      "|     HA| 7.054054054054054|\n",
      "|     AS|  7.75046904315197|\n",
      "|     FL|16.222131482237646|\n",
      "|     VX|11.566586602615425|\n",
      "|     WN| 17.02714033539276|\n",
      "|     9E|16.300706660652533|\n",
      "+-------+------------------+\n",
      "\n"
     ]
    }
   ],
   "source": [
    "from pyspark.sql import functions as F\n",
    "average_delay_per_carrier = df.groupBy('carrier').agg(F.avg('dep_delay').alias('avg_delay'))\n",
    "average_delay_per_carrier.show()\n"
   ]
  },
  {
   "cell_type": "code",
   "execution_count": 8,
   "metadata": {},
   "outputs": [],
   "source": [
    "planes_df = spark.read.format(\"jdbc\") \\\n",
    "    .option(\"url\", \"jdbc:mysql://mysql-nadim.alwaysdata.net:3306/nadim_db\") \\\n",
    "    .option(\"driver\", \"com.mysql.cj.jdbc.Driver\") \\\n",
    "    .option(\"dbtable\", \"planes\") \\\n",
    "    .option(\"user\", \"nadim\") \\\n",
    "    .option(\"password\", \"root123456789@\") \\\n",
    "    .load()\n"
   ]
  },
  {
   "cell_type": "code",
   "execution_count": 9,
   "metadata": {},
   "outputs": [],
   "source": [
    "weather_df = spark.read.format(\"jdbc\") \\\n",
    "    .option(\"url\", \"jdbc:mysql://mysql-nadim.alwaysdata.net:3306/nadim_db\") \\\n",
    "    .option(\"driver\", \"com.mysql.cj.jdbc.Driver\") \\\n",
    "    .option(\"dbtable\", \"weather\") \\\n",
    "    .option(\"user\", \"nadim\") \\\n",
    "    .option(\"password\", \"root123456789@\") \\\n",
    "    .load()\n"
   ]
  },
  {
   "cell_type": "code",
   "execution_count": 10,
   "metadata": {},
   "outputs": [],
   "source": [
    "airlines_df = spark.read.format(\"jdbc\") \\\n",
    "    .option(\"url\", \"jdbc:mysql://mysql-nadim.alwaysdata.net:3306/nadim_db\") \\\n",
    "    .option(\"driver\", \"com.mysql.cj.jdbc.Driver\") \\\n",
    "    .option(\"dbtable\", \"airlines\") \\\n",
    "    .option(\"user\", \"nadim\") \\\n",
    "    .option(\"password\", \"root123456789@\") \\\n",
    "    .load()\n"
   ]
  },
  {
   "cell_type": "code",
   "execution_count": 11,
   "metadata": {},
   "outputs": [],
   "source": [
    "airports_df = spark.read.format(\"jdbc\") \\\n",
    "    .option(\"url\", \"jdbc:mysql://mysql-nadim.alwaysdata.net:3306/nadim_db\") \\\n",
    "    .option(\"driver\", \"com.mysql.cj.jdbc.Driver\") \\\n",
    "    .option(\"dbtable\", \"airports\") \\\n",
    "    .option(\"user\", \"nadim\") \\\n",
    "    .option(\"password\", \"root123456789@\") \\\n",
    "    .load()\n"
   ]
  },
  {
   "cell_type": "code",
   "execution_count": null,
   "metadata": {},
   "outputs": [],
   "source": []
  }
 ],
 "metadata": {
  "kernelspec": {
   "display_name": "Python 3 (ipykernel)",
   "language": "python",
   "name": "python3"
  },
  "language_info": {
   "codemirror_mode": {
    "name": "ipython",
    "version": 3
   },
   "file_extension": ".py",
   "mimetype": "text/x-python",
   "name": "python",
   "nbconvert_exporter": "python",
   "pygments_lexer": "ipython3",
   "version": "3.11.6"
  }
 },
 "nbformat": 4,
 "nbformat_minor": 4
}
