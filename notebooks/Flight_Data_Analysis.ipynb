{
 "cells": [
  {
   "cell_type": "code",
   "execution_count": 1,
   "metadata": {},
   "outputs": [
    {
     "name": "stdout",
     "output_type": "stream",
     "text": [
      "Requirement already satisfied: pandas in /opt/conda/lib/python3.11/site-packages (2.0.3)\n",
      "Requirement already satisfied: python-dateutil>=2.8.2 in /opt/conda/lib/python3.11/site-packages (from pandas) (2.8.2)\n",
      "Requirement already satisfied: pytz>=2020.1 in /opt/conda/lib/python3.11/site-packages (from pandas) (2023.3.post1)\n",
      "Requirement already satisfied: tzdata>=2022.1 in /opt/conda/lib/python3.11/site-packages (from pandas) (2023.3)\n",
      "Requirement already satisfied: numpy>=1.21.0 in /opt/conda/lib/python3.11/site-packages (from pandas) (1.24.4)\n",
      "Requirement already satisfied: six>=1.5 in /opt/conda/lib/python3.11/site-packages (from python-dateutil>=2.8.2->pandas) (1.16.0)\n"
     ]
    }
   ],
   "source": [
    "!pip install pandas"
   ]
  },
  {
   "cell_type": "code",
   "execution_count": null,
   "metadata": {},
   "outputs": [
    {
     "name": "stdout",
     "output_type": "stream",
     "text": [
      "Requirement already satisfied: numpy in /opt/conda/lib/python3.11/site-packages (1.24.4)\n"
     ]
    }
   ],
   "source": [
    "!pip install numpy"
   ]
  },
  {
   "cell_type": "code",
   "execution_count": null,
   "metadata": {},
   "outputs": [],
   "source": [
    "!pip install plotly"
   ]
  },
  {
   "cell_type": "code",
   "execution_count": null,
   "metadata": {},
   "outputs": [],
   "source": [
    "!pip install seaborn"
   ]
  },
  {
   "cell_type": "code",
   "execution_count": null,
   "metadata": {},
   "outputs": [],
   "source": [
    "!pip install matplotlib"
   ]
  },
  {
   "cell_type": "code",
   "execution_count": null,
   "metadata": {},
   "outputs": [],
   "source": [
    "!pip install mysql-connector-python"
   ]
  },
  {
   "cell_type": "code",
   "execution_count": null,
   "metadata": {},
   "outputs": [],
   "source": [
    "!pip install pyspark\n"
   ]
  },
  {
   "cell_type": "code",
   "execution_count": null,
   "metadata": {},
   "outputs": [],
   "source": [
    "# Importer les bibliothèques nécessaires\n",
    "import pandas as pd\n",
    "import mysql.connector\n",
    "\n",
    "# Créer une connexion à la base de données\n",
    "conn = mysql.connector.connect(\n",
    "    host='mysql-db',\n",
    "    user='root',\n",
    "    password='root',\n",
    "    database='aeroport_db'\n",
    ")"
   ]
  },
  {
   "cell_type": "code",
   "execution_count": null,
   "metadata": {},
   "outputs": [],
   "source": [
    "# 1. Combien y-a-t-il d'aéroports en tout, de départ et de destination\n",
    "query_airports_total = \"SELECT COUNT(DISTINCT faa) AS total_airports FROM airports\"\n",
    "query_airports_departure = \"SELECT COUNT(DISTINCT origin) AS departure_airports FROM flights\"\n",
    "query_airports_destination = \"SELECT COUNT(DISTINCT dest) AS destination_airports FROM flights\"\n",
    "\n",
    "# Exécuter les requêtes\n",
    "df_airports_total = pd.read_sql_query(query_airports_total, conn)\n",
    "df_airports_departure = pd.read_sql_query(query_airports_departure, conn)\n",
    "df_airports_destination = pd.read_sql_query(query_airports_destination, conn)\n",
    "\n",
    "# Afficher les résultats\n",
    "print(\"1. Combien y-a-t-il d'aéroports en tout?\")\n",
    "print(\"Total d'aéroports:\", df_airports_total['total_airports'].values[0])\n",
    "\n",
    "print(\"\\nCombien y-a-t-il d'aéroports de départ?\")\n",
    "print(\"Aéroports de départ:\", df_airports_departure['departure_airports'].values[0])\n",
    "\n",
    "print(\"\\nCombien y-a-t-il d'aéroports de destination?\")\n",
    "print(\"Aéroports de destination:\", df_airports_destination['destination_airports'].values[0])"
   ]
  },
  {
   "cell_type": "code",
   "execution_count": null,
   "metadata": {},
   "outputs": [],
   "source": [
    "\n",
    "# 2. Quel est l'aéroport de départ le plus emprunté?\n",
    "query_most_used_departure = \"SELECT origin, COUNT(*) AS count FROM flights GROUP BY origin ORDER BY count DESC LIMIT 1\"\n",
    "df_most_used_departure = pd.read_sql_query(query_most_used_departure, conn)\n",
    "\n",
    "# Afficher les résultats\n",
    "print(\"\\n2. Quel est l'aéroport de départ le plus emprunté?\")\n",
    "print(\"Aéroport de départ le plus emprunté:\", df_most_used_departure['origin'].values[0])"
   ]
  },
  {
   "cell_type": "code",
   "execution_count": null,
   "metadata": {},
   "outputs": [],
   "source": [
    "# 3. Les 10 destinations les plus prisées\n",
    "query_top_destinations = \"SELECT dest, COUNT(*) AS count FROM flights GROUP BY dest ORDER BY count DESC LIMIT 10\"\n",
    "df_top_destinations = pd.read_sql_query(query_top_destinations, conn)\n",
    "\n",
    "# Afficher les résultats\n",
    "print(\"\\n3. Les 10 destinations les plus prisées:\")\n",
    "print(df_top_destinations)"
   ]
  },
  {
   "cell_type": "code",
   "execution_count": null,
   "metadata": {},
   "outputs": [],
   "source": [
    "# 4. Combien chaque compagnie a desservi de destination\n",
    "query_destinations_by_airline = \"SELECT carrier, COUNT(DISTINCT dest) AS destinations_count FROM flights GROUP BY carrier\"\n",
    "df_destinations_by_airline = pd.read_sql_query(query_destinations_by_airline, conn)\n",
    "\n",
    "# Afficher les résultats\n",
    "print(\"\\n4. Combien chaque compagnie a desservi de destination:\")\n",
    "print(df_destinations_by_airline)"
   ]
  },
  {
   "cell_type": "code",
   "execution_count": null,
   "metadata": {},
   "outputs": [],
   "source": [
    "# 5. Vols ayant atterri à Houston (IAH ou HOU)\n",
    "query_houston_arrivals = \"SELECT * FROM flights WHERE dest IN ('IAH', 'HOU')\"\n",
    "df_houston_arrivals = pd.read_sql_query(query_houston_arrivals, conn)\n",
    "\n",
    "# Afficher les résultats\n",
    "print(\"\\n5. Vols ayant atterri à Houston (IAH ou HOU):\")\n",
    "print(df_houston_arrivals)"
   ]
  },
  {
   "cell_type": "code",
   "execution_count": null,
   "metadata": {},
   "outputs": [],
   "source": [
    "# 6. Nombre de vols par destination\n",
    "query_flights_per_destination = \"SELECT dest, COUNT(*) AS flights_count FROM flights GROUP BY dest\"\n",
    "df_flights_per_destination = pd.read_sql_query(query_flights_per_destination, conn)\n",
    "\n",
    "# Afficher les résultats triés par destination\n",
    "print(\"\\n6. Nombre de vols par destination (trié par destination):\")\n",
    "print(df_flights_per_destination.sort_values(by='dest'))\n"
   ]
  },
  {
   "cell_type": "code",
   "execution_count": null,
   "metadata": {},
   "outputs": [],
   "source": [
    "# 7. Compagnies qui n'opèrent pas sur tous les aéroports de départ\n",
    "query_airlines_not_operating_everywhere = \"\"\"\n",
    "SELECT carrier, COUNT(DISTINCT origin) AS origin_count \n",
    "FROM flights \n",
    "GROUP BY carrier \n",
    "HAVING origin_count < (SELECT COUNT(DISTINCT origin) FROM airports)\n",
    "\"\"\"\n",
    "df_airlines_not_operating_everywhere = pd.read_sql_query(query_airlines_not_operating_everywhere, conn)\n",
    "\n",
    "# Afficher les résultats\n",
    "print(\"\\n7. Compagnies qui n'opèrent pas sur tous les aéroports de départ:\")\n",
    "print(df_airlines_not_operating_everywhere)"
   ]
  },
  {
   "cell_type": "code",
   "execution_count": null,
   "metadata": {},
   "outputs": [],
   "source": [
    "# 8. Vols exploités par United, American ou Delta\n",
    "query_selected_airlines_flights = \"SELECT * FROM flights WHERE carrier IN ('UA', 'AA', 'DL')\"\n",
    "df_selected_airlines_flights = pd.read_sql_query(query_selected_airlines_flights, conn)\n",
    "\n",
    "# Afficher les résultats\n",
    "print(\"\\n8. Vols exploités par United, American ou Delta:\")\n",
    "print(df_selected_airlines_flights)"
   ]
  },
  {
   "cell_type": "code",
   "execution_count": null,
   "metadata": {},
   "outputs": [],
   "source": [
    "# Fermer la connexion à la base de données\n",
    "conn.close()\n"
   ]
  },
  {
   "cell_type": "code",
   "execution_count": null,
   "metadata": {},
   "outputs": [],
   "source": []
  }
 ],
 "metadata": {
  "kernelspec": {
   "display_name": "Python 3 (ipykernel)",
   "language": "python",
   "name": "python3"
  },
  "language_info": {
   "codemirror_mode": {
    "name": "ipython",
    "version": 3
   },
   "file_extension": ".py",
   "mimetype": "text/x-python",
   "name": "python",
   "nbconvert_exporter": "python",
   "pygments_lexer": "ipython3",
   "version": "3.11.6"
  }
 },
 "nbformat": 4,
 "nbformat_minor": 4
}
