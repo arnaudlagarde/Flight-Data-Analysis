{
 "cells": [
  {
   "cell_type": "code",
   "execution_count": null,
   "metadata": {},
   "outputs": [],
   "source": [
    "from pyspark.sql import SparkSession\n",
    "\n",
    "spark = SparkSession.builder.appName(\"AirportAnalysis\").getOrCreate()\n",
    "\n",
    "# Charger les données dans un DataFrame Spark\n",
    "airports_df = spark.read.csv(\"path_to_airports_data.csv\", header=True, inferSchema=True)\n",
    "\n",
    "# Compter le nombre d'aéroports\n",
    "total_airports = airports_df.count()\n",
    "print(f\"Nombre total d'aéroports: {total_airports}\")\n",
    "\n",
    "# Fermer la session Spark\n",
    "spark.stop()\n"
   ]
  }
 ],
 "metadata": {
  "language_info": {
   "name": "python"
  },
  "orig_nbformat": 4
 },
 "nbformat": 4,
 "nbformat_minor": 2
}
